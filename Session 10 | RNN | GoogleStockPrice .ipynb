{
  "nbformat": 4,
  "nbformat_minor": 0,
  "metadata": {
    "colab": {
      "name": "RNN | GoogleStockPrice | E10.ipynb",
      "provenance": [],
      "authorship_tag": "ABX9TyMXcVlHWeBDo3CTqoQZG42j",
      "include_colab_link": true
    },
    "kernelspec": {
      "name": "python3",
      "display_name": "Python 3"
    },
    "language_info": {
      "name": "python"
    },
    "accelerator": "TPU"
  },
  "cells": [
    {
      "cell_type": "markdown",
      "metadata": {
        "id": "view-in-github",
        "colab_type": "text"
      },
      "source": [
        "<a href=\"https://colab.research.google.com/github/YasaminRhd/Pythonia.init/blob/main/Session%2010%20%7C%20RNN%20%7C%20GoogleStockPrice%20.ipynb\" target=\"_parent\"><img src=\"https://colab.research.google.com/assets/colab-badge.svg\" alt=\"Open In Colab\"/></a>"
      ]
    },
    {
      "cell_type": "code",
      "metadata": {
        "id": "_MdwcaBtgzgy"
      },
      "source": [
        "#importing libraries\n",
        "import numpy as np\n",
        "import matplotlib.pyplot as plt\n",
        "import pandas as pd"
      ],
      "execution_count": null,
      "outputs": []
    },
    {
      "cell_type": "code",
      "metadata": {
        "id": "JAnb8r9ntiR1"
      },
      "source": [
        "#Dataset import\n",
        "traning_dataset = pd.read_csv('Google_Stock_Price_Train.csv')\n",
        "training_set = traning_dataset.iloc[:,1:2].values\n",
        "\n",
        "test_dataset = pd.read_csv('Google_Stock_Price_Test.csv')\n",
        "test_set = test_dataset.iloc[:,1:2].values\n",
        "\n",
        "Dataset= np.concatenate((training_set, test_set))"
      ],
      "execution_count": null,
      "outputs": []
    },
    {
      "cell_type": "code",
      "metadata": {
        "id": "QtPVpDoUuqvJ"
      },
      "source": [
        "#Scale data into 0-1 range \n",
        "from sklearn.preprocessing import MinMaxScaler\n",
        "sc = MinMaxScaler(feature_range=(0, 1))\n",
        "scaled_dataset = sc.fit_transform(Dataset)"
      ],
      "execution_count": null,
      "outputs": []
    },
    {
      "cell_type": "code",
      "metadata": {
        "colab": {
          "base_uri": "https://localhost:8080/"
        },
        "id": "v9Xj4C_Qv6bl",
        "outputId": "42758267-03ee-41f5-d1c9-d1b5dc3409f4"
      },
      "source": [
        "scaled_dataset"
      ],
      "execution_count": null,
      "outputs": [
        {
          "output_type": "execute_result",
          "data": {
            "text/plain": [
              "array([[0.08256815],\n",
              "       [0.09334336],\n",
              "       [0.0907659 ],\n",
              "       ...,\n",
              "       [0.99445131],\n",
              "       [0.95856378],\n",
              "       [0.92670354]])"
            ]
          },
          "metadata": {
            "tags": []
          },
          "execution_count": 21
        }
      ]
    },
    {
      "cell_type": "code",
      "metadata": {
        "colab": {
          "base_uri": "https://localhost:8080/"
        },
        "id": "XN2JVY2Q8BPu",
        "outputId": "0c97d814-9f98-4333-8f1b-251cafc08874"
      },
      "source": [
        "print(len(training_set))"
      ],
      "execution_count": null,
      "outputs": [
        {
          "output_type": "stream",
          "text": [
            "1258\n"
          ],
          "name": "stdout"
        }
      ]
    },
    {
      "cell_type": "code",
      "metadata": {
        "colab": {
          "base_uri": "https://localhost:8080/"
        },
        "id": "3tLtEkn478n1",
        "outputId": "c406a01f-a011-4e88-ac25-713101cd3515"
      },
      "source": [
        "print(len(test_set))"
      ],
      "execution_count": null,
      "outputs": [
        {
          "output_type": "stream",
          "text": [
            "20\n"
          ],
          "name": "stdout"
        }
      ]
    },
    {
      "cell_type": "code",
      "metadata": {
        "colab": {
          "base_uri": "https://localhost:8080/"
        },
        "id": "By-ZKIdz7tJI",
        "outputId": "02a8f011-352f-4297-d873-cdfda7fd6d43"
      },
      "source": [
        "print(len(scaled_dataset))"
      ],
      "execution_count": null,
      "outputs": [
        {
          "output_type": "stream",
          "text": [
            "1278\n"
          ],
          "name": "stdout"
        }
      ]
    },
    {
      "cell_type": "code",
      "metadata": {
        "id": "tH4SbCV5wAc6"
      },
      "source": [
        "x_train = []\n",
        "y_train = []\n",
        "for i in range(60, 1258):\n",
        "  x_train.append(scaled_dataset[i-60:i, 0:1])\n",
        "  y_train.append(scaled_dataset[i, 0:1])\n",
        "\n",
        "x_test = []\n",
        "y_test = []\n",
        "for i in range(1258, 1278):\n",
        "  x_test.append(scaled_dataset[i-60:i, 0:1])\n",
        "  y_test.append(scaled_dataset[i, 0:1])\n"
      ],
      "execution_count": null,
      "outputs": []
    },
    {
      "cell_type": "code",
      "metadata": {
        "colab": {
          "base_uri": "https://localhost:8080/"
        },
        "id": "885pT9l88eCi",
        "outputId": "7294507c-6692-4cef-9f11-1d42c26eeee0"
      },
      "source": [
        "print(len(x_train))"
      ],
      "execution_count": null,
      "outputs": [
        {
          "output_type": "stream",
          "text": [
            "1198\n"
          ],
          "name": "stdout"
        }
      ]
    },
    {
      "cell_type": "code",
      "metadata": {
        "id": "96Kft1HIwcEO"
      },
      "source": [
        "x_train, x_test, y_train, y_test = np.array(x_train), np.array(x_test), np.array(y_train), np.array(y_test)"
      ],
      "execution_count": null,
      "outputs": []
    },
    {
      "cell_type": "code",
      "metadata": {
        "id": "RV9gSbfzw7Lh"
      },
      "source": [
        "from keras.models import Sequential\n",
        "from keras.layers import Dense, LSTM, Dropout"
      ],
      "execution_count": null,
      "outputs": []
    },
    {
      "cell_type": "code",
      "metadata": {
        "id": "HmV0--QJxF19"
      },
      "source": [
        "# Preparing the sequential model\n",
        "model = Sequential()"
      ],
      "execution_count": null,
      "outputs": []
    },
    {
      "cell_type": "code",
      "metadata": {
        "id": "OTNtTHDrxGnR"
      },
      "source": [
        "# LSTM first layer\n",
        "model.add(LSTM(units=50, return_sequences=True, input_shape=(x_train.shape[1], 1)))\n",
        "model.add(Dropout(0.20))\n",
        "# LSTM second layer\n",
        "model.add(LSTM(units=50, return_sequences=True))\n",
        "model.add(Dropout(0.20))\n",
        "# LSTM third layer\n",
        "model.add(LSTM(units=50, return_sequences=True))\n",
        "model.add(Dropout(0.20))\n",
        "# LSTM forth layer\n",
        "model.add(LSTM(units=50, return_sequences=False))\n",
        "model.add(Dropout(0.20))\n",
        "# Dense ourput layer\n",
        "model.add(Dense(units=1))"
      ],
      "execution_count": null,
      "outputs": []
    },
    {
      "cell_type": "code",
      "metadata": {
        "colab": {
          "base_uri": "https://localhost:8080/"
        },
        "id": "ykM0bY6dx3h_",
        "outputId": "e4c20830-ea94-4dd5-d322-52ede63870c5"
      },
      "source": [
        "# Compile\n",
        "model.compile(optimizer='adam', loss='mean_squared_error')\n",
        "# Fit\n",
        "model.fit(x_train, y_train, epochs=200, batch_size=20, validation_data=(x_test, y_test))"
      ],
      "execution_count": null,
      "outputs": [
        {
          "output_type": "stream",
          "text": [
            "Epoch 1/200\n",
            "60/60 [==============================] - 33s 142ms/step - loss: 0.0450 - val_loss: 0.0054\n",
            "Epoch 2/200\n",
            "60/60 [==============================] - 7s 110ms/step - loss: 0.0057 - val_loss: 6.8021e-04\n",
            "Epoch 3/200\n",
            "60/60 [==============================] - 7s 108ms/step - loss: 0.0059 - val_loss: 5.6549e-04\n",
            "Epoch 4/200\n",
            "60/60 [==============================] - 6s 107ms/step - loss: 0.0048 - val_loss: 4.9594e-04\n",
            "Epoch 5/200\n",
            "60/60 [==============================] - 6s 105ms/step - loss: 0.0055 - val_loss: 5.3924e-04\n",
            "Epoch 6/200\n",
            "60/60 [==============================] - 6s 105ms/step - loss: 0.0049 - val_loss: 0.0064\n",
            "Epoch 7/200\n",
            "60/60 [==============================] - 6s 107ms/step - loss: 0.0040 - val_loss: 7.3945e-04\n",
            "Epoch 8/200\n",
            "60/60 [==============================] - 6s 106ms/step - loss: 0.0038 - val_loss: 4.8411e-04\n",
            "Epoch 9/200\n",
            "60/60 [==============================] - 6s 106ms/step - loss: 0.0044 - val_loss: 0.0033\n",
            "Epoch 10/200\n",
            "60/60 [==============================] - 6s 107ms/step - loss: 0.0036 - val_loss: 0.0076\n",
            "Epoch 11/200\n",
            "60/60 [==============================] - 6s 106ms/step - loss: 0.0032 - val_loss: 0.0014\n",
            "Epoch 12/200\n",
            "60/60 [==============================] - 6s 106ms/step - loss: 0.0031 - val_loss: 0.0022\n",
            "Epoch 13/200\n",
            "60/60 [==============================] - 6s 106ms/step - loss: 0.0032 - val_loss: 0.0048\n",
            "Epoch 14/200\n",
            "60/60 [==============================] - 6s 107ms/step - loss: 0.0041 - val_loss: 0.0023\n",
            "Epoch 15/200\n",
            "60/60 [==============================] - 6s 107ms/step - loss: 0.0026 - val_loss: 0.0011\n",
            "Epoch 16/200\n",
            "60/60 [==============================] - 6s 106ms/step - loss: 0.0029 - val_loss: 0.0089\n",
            "Epoch 17/200\n",
            "60/60 [==============================] - 6s 106ms/step - loss: 0.0032 - val_loss: 0.0044\n",
            "Epoch 18/200\n",
            "60/60 [==============================] - 6s 107ms/step - loss: 0.0030 - val_loss: 0.0043\n",
            "Epoch 19/200\n",
            "60/60 [==============================] - 6s 106ms/step - loss: 0.0030 - val_loss: 0.0055\n",
            "Epoch 20/200\n",
            "60/60 [==============================] - 6s 108ms/step - loss: 0.0030 - val_loss: 0.0016\n",
            "Epoch 21/200\n",
            "60/60 [==============================] - 6s 107ms/step - loss: 0.0036 - val_loss: 9.3443e-04\n",
            "Epoch 22/200\n",
            "60/60 [==============================] - 6s 107ms/step - loss: 0.0028 - val_loss: 0.0012\n",
            "Epoch 23/200\n",
            "60/60 [==============================] - 6s 107ms/step - loss: 0.0027 - val_loss: 0.0053\n",
            "Epoch 24/200\n",
            "60/60 [==============================] - 6s 106ms/step - loss: 0.0025 - val_loss: 0.0043\n",
            "Epoch 25/200\n",
            "60/60 [==============================] - 6s 108ms/step - loss: 0.0029 - val_loss: 7.6665e-04\n",
            "Epoch 26/200\n",
            "60/60 [==============================] - 6s 107ms/step - loss: 0.0028 - val_loss: 0.0016\n",
            "Epoch 27/200\n",
            "60/60 [==============================] - 6s 107ms/step - loss: 0.0026 - val_loss: 0.0074\n",
            "Epoch 28/200\n",
            "60/60 [==============================] - 6s 107ms/step - loss: 0.0024 - val_loss: 0.0018\n",
            "Epoch 29/200\n",
            "60/60 [==============================] - 6s 106ms/step - loss: 0.0026 - val_loss: 5.7207e-04\n",
            "Epoch 30/200\n",
            "60/60 [==============================] - 6s 108ms/step - loss: 0.0023 - val_loss: 0.0026\n",
            "Epoch 31/200\n",
            "60/60 [==============================] - 6s 108ms/step - loss: 0.0026 - val_loss: 5.6704e-04\n",
            "Epoch 32/200\n",
            "60/60 [==============================] - 6s 106ms/step - loss: 0.0024 - val_loss: 6.8664e-04\n",
            "Epoch 33/200\n",
            "60/60 [==============================] - 6s 107ms/step - loss: 0.0018 - val_loss: 0.0043\n",
            "Epoch 34/200\n",
            "60/60 [==============================] - 7s 109ms/step - loss: 0.0024 - val_loss: 0.0030\n",
            "Epoch 35/200\n",
            "60/60 [==============================] - 7s 108ms/step - loss: 0.0022 - val_loss: 0.0039\n",
            "Epoch 36/200\n",
            "60/60 [==============================] - 6s 107ms/step - loss: 0.0019 - val_loss: 0.0016\n",
            "Epoch 37/200\n",
            "60/60 [==============================] - 6s 107ms/step - loss: 0.0023 - val_loss: 5.8799e-04\n",
            "Epoch 38/200\n",
            "60/60 [==============================] - 6s 107ms/step - loss: 0.0021 - val_loss: 5.1348e-04\n",
            "Epoch 39/200\n",
            "60/60 [==============================] - 6s 107ms/step - loss: 0.0022 - val_loss: 0.0013\n",
            "Epoch 40/200\n",
            "60/60 [==============================] - 6s 106ms/step - loss: 0.0022 - val_loss: 0.0035\n",
            "Epoch 41/200\n",
            "60/60 [==============================] - 6s 107ms/step - loss: 0.0020 - val_loss: 7.4596e-04\n",
            "Epoch 42/200\n",
            "60/60 [==============================] - 6s 107ms/step - loss: 0.0020 - val_loss: 8.8732e-04\n",
            "Epoch 43/200\n",
            "60/60 [==============================] - 6s 106ms/step - loss: 0.0025 - val_loss: 0.0018\n",
            "Epoch 44/200\n",
            "60/60 [==============================] - 6s 106ms/step - loss: 0.0018 - val_loss: 0.0022\n",
            "Epoch 45/200\n",
            "60/60 [==============================] - 6s 107ms/step - loss: 0.0018 - val_loss: 0.0018\n",
            "Epoch 46/200\n",
            "60/60 [==============================] - 6s 107ms/step - loss: 0.0018 - val_loss: 7.2694e-04\n",
            "Epoch 47/200\n",
            "60/60 [==============================] - 6s 107ms/step - loss: 0.0017 - val_loss: 0.0010\n",
            "Epoch 48/200\n",
            "60/60 [==============================] - 6s 108ms/step - loss: 0.0021 - val_loss: 0.0026\n",
            "Epoch 49/200\n",
            "60/60 [==============================] - 6s 106ms/step - loss: 0.0018 - val_loss: 5.4812e-04\n",
            "Epoch 50/200\n",
            "60/60 [==============================] - 6s 106ms/step - loss: 0.0019 - val_loss: 0.0011\n",
            "Epoch 51/200\n",
            "60/60 [==============================] - 6s 108ms/step - loss: 0.0017 - val_loss: 9.8362e-04\n",
            "Epoch 52/200\n",
            "60/60 [==============================] - 6s 106ms/step - loss: 0.0015 - val_loss: 7.7675e-04\n",
            "Epoch 53/200\n",
            "60/60 [==============================] - 6s 105ms/step - loss: 0.0016 - val_loss: 9.4864e-04\n",
            "Epoch 54/200\n",
            "60/60 [==============================] - 6s 106ms/step - loss: 0.0020 - val_loss: 5.1028e-04\n",
            "Epoch 55/200\n",
            "60/60 [==============================] - 6s 107ms/step - loss: 0.0016 - val_loss: 5.0464e-04\n",
            "Epoch 56/200\n",
            "60/60 [==============================] - 6s 106ms/step - loss: 0.0013 - val_loss: 0.0036\n",
            "Epoch 57/200\n",
            "60/60 [==============================] - 6s 106ms/step - loss: 0.0016 - val_loss: 0.0024\n",
            "Epoch 58/200\n",
            "60/60 [==============================] - 6s 106ms/step - loss: 0.0014 - val_loss: 0.0016\n",
            "Epoch 59/200\n",
            "60/60 [==============================] - 6s 106ms/step - loss: 0.0013 - val_loss: 0.0031\n",
            "Epoch 60/200\n",
            "60/60 [==============================] - 6s 107ms/step - loss: 0.0015 - val_loss: 0.0016\n",
            "Epoch 61/200\n",
            "60/60 [==============================] - 6s 106ms/step - loss: 0.0015 - val_loss: 5.2671e-04\n",
            "Epoch 62/200\n",
            "60/60 [==============================] - 7s 109ms/step - loss: 0.0015 - val_loss: 0.0012\n",
            "Epoch 63/200\n",
            "60/60 [==============================] - 6s 107ms/step - loss: 0.0016 - val_loss: 5.8423e-04\n",
            "Epoch 64/200\n",
            "60/60 [==============================] - 6s 107ms/step - loss: 0.0015 - val_loss: 6.9672e-04\n",
            "Epoch 65/200\n",
            "60/60 [==============================] - 6s 107ms/step - loss: 0.0014 - val_loss: 9.1673e-04\n",
            "Epoch 66/200\n",
            "60/60 [==============================] - 6s 106ms/step - loss: 0.0014 - val_loss: 0.0015\n",
            "Epoch 67/200\n",
            "60/60 [==============================] - 6s 107ms/step - loss: 0.0016 - val_loss: 5.9106e-04\n",
            "Epoch 68/200\n",
            "60/60 [==============================] - 6s 107ms/step - loss: 0.0015 - val_loss: 0.0032\n",
            "Epoch 69/200\n",
            "60/60 [==============================] - 6s 108ms/step - loss: 0.0014 - val_loss: 7.0268e-04\n",
            "Epoch 70/200\n",
            "60/60 [==============================] - 6s 107ms/step - loss: 0.0013 - val_loss: 4.5414e-04\n",
            "Epoch 71/200\n",
            "60/60 [==============================] - 6s 107ms/step - loss: 0.0014 - val_loss: 4.4406e-04\n",
            "Epoch 72/200\n",
            "60/60 [==============================] - 6s 106ms/step - loss: 0.0013 - val_loss: 5.2282e-04\n",
            "Epoch 73/200\n",
            "60/60 [==============================] - 6s 107ms/step - loss: 0.0013 - val_loss: 6.8866e-04\n",
            "Epoch 74/200\n",
            "60/60 [==============================] - 6s 108ms/step - loss: 0.0013 - val_loss: 7.0170e-04\n",
            "Epoch 75/200\n",
            "60/60 [==============================] - 6s 107ms/step - loss: 0.0012 - val_loss: 0.0031\n",
            "Epoch 76/200\n",
            "60/60 [==============================] - 6s 106ms/step - loss: 0.0016 - val_loss: 4.6764e-04\n",
            "Epoch 77/200\n",
            "60/60 [==============================] - 6s 108ms/step - loss: 0.0012 - val_loss: 5.1812e-04\n",
            "Epoch 78/200\n",
            "60/60 [==============================] - 6s 107ms/step - loss: 0.0011 - val_loss: 3.8428e-04\n",
            "Epoch 79/200\n",
            "60/60 [==============================] - 6s 107ms/step - loss: 0.0012 - val_loss: 3.8667e-04\n",
            "Epoch 80/200\n",
            "60/60 [==============================] - 6s 106ms/step - loss: 0.0013 - val_loss: 5.0290e-04\n",
            "Epoch 81/200\n",
            "60/60 [==============================] - 6s 106ms/step - loss: 0.0010 - val_loss: 5.5552e-04\n",
            "Epoch 82/200\n",
            "60/60 [==============================] - 7s 108ms/step - loss: 0.0011 - val_loss: 4.4431e-04\n",
            "Epoch 83/200\n",
            "60/60 [==============================] - 7s 111ms/step - loss: 0.0013 - val_loss: 0.0018\n",
            "Epoch 84/200\n",
            "60/60 [==============================] - 6s 106ms/step - loss: 0.0013 - val_loss: 0.0012\n",
            "Epoch 85/200\n",
            "60/60 [==============================] - 6s 107ms/step - loss: 0.0013 - val_loss: 3.6674e-04\n",
            "Epoch 86/200\n",
            "60/60 [==============================] - 6s 107ms/step - loss: 0.0013 - val_loss: 0.0018\n",
            "Epoch 87/200\n",
            "60/60 [==============================] - 6s 107ms/step - loss: 0.0015 - val_loss: 0.0013\n",
            "Epoch 88/200\n",
            "60/60 [==============================] - 6s 106ms/step - loss: 9.9287e-04 - val_loss: 3.0842e-04\n",
            "Epoch 89/200\n",
            "60/60 [==============================] - 6s 107ms/step - loss: 0.0012 - val_loss: 0.0011\n",
            "Epoch 90/200\n",
            "60/60 [==============================] - 6s 107ms/step - loss: 0.0011 - val_loss: 0.0014\n",
            "Epoch 91/200\n",
            "60/60 [==============================] - 6s 106ms/step - loss: 0.0011 - val_loss: 3.3078e-04\n",
            "Epoch 92/200\n",
            "60/60 [==============================] - 6s 107ms/step - loss: 0.0012 - val_loss: 3.4947e-04\n",
            "Epoch 93/200\n",
            "60/60 [==============================] - 6s 108ms/step - loss: 0.0012 - val_loss: 0.0013\n",
            "Epoch 94/200\n",
            "60/60 [==============================] - 6s 106ms/step - loss: 0.0013 - val_loss: 3.0350e-04\n",
            "Epoch 95/200\n",
            "60/60 [==============================] - 7s 109ms/step - loss: 0.0013 - val_loss: 0.0011\n",
            "Epoch 96/200\n",
            "60/60 [==============================] - 6s 107ms/step - loss: 0.0012 - val_loss: 9.9312e-04\n",
            "Epoch 97/200\n",
            "60/60 [==============================] - 6s 108ms/step - loss: 0.0011 - val_loss: 4.3081e-04\n",
            "Epoch 98/200\n",
            "60/60 [==============================] - 6s 106ms/step - loss: 0.0013 - val_loss: 3.7134e-04\n",
            "Epoch 99/200\n",
            "60/60 [==============================] - 6s 107ms/step - loss: 0.0011 - val_loss: 4.8643e-04\n",
            "Epoch 100/200\n",
            "60/60 [==============================] - 6s 107ms/step - loss: 0.0012 - val_loss: 0.0011\n",
            "Epoch 101/200\n",
            "60/60 [==============================] - 6s 107ms/step - loss: 0.0010 - val_loss: 3.0377e-04\n",
            "Epoch 102/200\n",
            "60/60 [==============================] - 6s 107ms/step - loss: 0.0011 - val_loss: 2.6297e-04\n",
            "Epoch 103/200\n",
            "60/60 [==============================] - 6s 107ms/step - loss: 0.0012 - val_loss: 2.6443e-04\n",
            "Epoch 104/200\n",
            "60/60 [==============================] - 6s 107ms/step - loss: 0.0011 - val_loss: 2.7585e-04\n",
            "Epoch 105/200\n",
            "60/60 [==============================] - 6s 107ms/step - loss: 0.0011 - val_loss: 9.4140e-04\n",
            "Epoch 106/200\n",
            "60/60 [==============================] - 6s 108ms/step - loss: 0.0011 - val_loss: 6.1249e-04\n",
            "Epoch 107/200\n",
            "60/60 [==============================] - 6s 107ms/step - loss: 0.0012 - val_loss: 4.0953e-04\n",
            "Epoch 108/200\n",
            "60/60 [==============================] - 6s 108ms/step - loss: 0.0012 - val_loss: 8.1881e-04\n",
            "Epoch 109/200\n",
            "60/60 [==============================] - 6s 107ms/step - loss: 9.8194e-04 - val_loss: 4.7937e-04\n",
            "Epoch 110/200\n",
            "60/60 [==============================] - 6s 108ms/step - loss: 0.0011 - val_loss: 0.0012\n",
            "Epoch 111/200\n",
            "60/60 [==============================] - 7s 109ms/step - loss: 0.0013 - val_loss: 0.0011\n",
            "Epoch 112/200\n",
            "60/60 [==============================] - 6s 107ms/step - loss: 0.0012 - val_loss: 4.1355e-04\n",
            "Epoch 113/200\n",
            "60/60 [==============================] - 6s 107ms/step - loss: 0.0011 - val_loss: 8.7474e-04\n",
            "Epoch 114/200\n",
            "60/60 [==============================] - 7s 109ms/step - loss: 0.0013 - val_loss: 5.0719e-04\n",
            "Epoch 115/200\n",
            "60/60 [==============================] - 6s 107ms/step - loss: 0.0010 - val_loss: 5.7323e-04\n",
            "Epoch 116/200\n",
            "60/60 [==============================] - 7s 109ms/step - loss: 9.6608e-04 - val_loss: 6.9692e-04\n",
            "Epoch 117/200\n",
            "60/60 [==============================] - 6s 108ms/step - loss: 0.0010 - val_loss: 2.6331e-04\n",
            "Epoch 118/200\n",
            "60/60 [==============================] - 7s 109ms/step - loss: 9.1423e-04 - val_loss: 8.8018e-04\n",
            "Epoch 119/200\n",
            "60/60 [==============================] - 6s 108ms/step - loss: 8.7259e-04 - val_loss: 5.6118e-04\n",
            "Epoch 120/200\n",
            "60/60 [==============================] - 7s 109ms/step - loss: 0.0011 - val_loss: 8.1471e-04\n",
            "Epoch 121/200\n",
            "60/60 [==============================] - 7s 109ms/step - loss: 9.5399e-04 - val_loss: 0.0016\n",
            "Epoch 122/200\n",
            "60/60 [==============================] - 6s 108ms/step - loss: 0.0010 - val_loss: 3.0048e-04\n",
            "Epoch 123/200\n",
            "60/60 [==============================] - 6s 107ms/step - loss: 9.4371e-04 - val_loss: 3.0343e-04\n",
            "Epoch 124/200\n",
            "60/60 [==============================] - 6s 107ms/step - loss: 0.0012 - val_loss: 0.0011\n",
            "Epoch 125/200\n",
            "60/60 [==============================] - 6s 107ms/step - loss: 0.0010 - val_loss: 8.3954e-04\n",
            "Epoch 126/200\n",
            "60/60 [==============================] - 6s 108ms/step - loss: 0.0011 - val_loss: 8.2640e-04\n",
            "Epoch 127/200\n",
            "60/60 [==============================] - 6s 107ms/step - loss: 9.2295e-04 - val_loss: 3.0288e-04\n",
            "Epoch 128/200\n",
            "60/60 [==============================] - 6s 107ms/step - loss: 9.6823e-04 - val_loss: 6.0386e-04\n",
            "Epoch 129/200\n",
            "60/60 [==============================] - 6s 107ms/step - loss: 8.8898e-04 - val_loss: 2.8224e-04\n",
            "Epoch 130/200\n",
            "60/60 [==============================] - 7s 108ms/step - loss: 0.0010 - val_loss: 2.4706e-04\n",
            "Epoch 131/200\n",
            "60/60 [==============================] - 7s 109ms/step - loss: 0.0011 - val_loss: 9.9576e-04\n",
            "Epoch 132/200\n",
            "60/60 [==============================] - 6s 108ms/step - loss: 8.7022e-04 - val_loss: 4.4482e-04\n",
            "Epoch 133/200\n",
            "60/60 [==============================] - 7s 108ms/step - loss: 0.0010 - val_loss: 0.0010\n",
            "Epoch 134/200\n",
            "60/60 [==============================] - 6s 108ms/step - loss: 9.4652e-04 - val_loss: 0.0037\n",
            "Epoch 135/200\n",
            "60/60 [==============================] - 6s 108ms/step - loss: 0.0013 - val_loss: 0.0027\n",
            "Epoch 136/200\n",
            "60/60 [==============================] - 6s 107ms/step - loss: 0.0011 - val_loss: 2.7000e-04\n",
            "Epoch 137/200\n",
            "60/60 [==============================] - 6s 107ms/step - loss: 0.0010 - val_loss: 3.5057e-04\n",
            "Epoch 138/200\n",
            "60/60 [==============================] - 6s 108ms/step - loss: 9.2632e-04 - val_loss: 0.0010\n",
            "Epoch 139/200\n",
            "60/60 [==============================] - 6s 107ms/step - loss: 0.0013 - val_loss: 2.3644e-04\n",
            "Epoch 140/200\n",
            "60/60 [==============================] - 6s 108ms/step - loss: 0.0010 - val_loss: 2.2114e-04\n",
            "Epoch 141/200\n",
            "60/60 [==============================] - 6s 108ms/step - loss: 9.1773e-04 - val_loss: 2.4930e-04\n",
            "Epoch 142/200\n",
            "60/60 [==============================] - 7s 109ms/step - loss: 9.9800e-04 - val_loss: 0.0015\n",
            "Epoch 143/200\n",
            "60/60 [==============================] - 6s 108ms/step - loss: 9.1908e-04 - val_loss: 2.6152e-04\n",
            "Epoch 144/200\n",
            "60/60 [==============================] - 6s 108ms/step - loss: 0.0010 - val_loss: 0.0030\n",
            "Epoch 145/200\n",
            "60/60 [==============================] - 6s 107ms/step - loss: 0.0011 - val_loss: 2.2540e-04\n",
            "Epoch 146/200\n",
            "60/60 [==============================] - 6s 106ms/step - loss: 8.1709e-04 - val_loss: 0.0034\n",
            "Epoch 147/200\n",
            "60/60 [==============================] - 6s 106ms/step - loss: 0.0011 - val_loss: 2.3168e-04\n",
            "Epoch 148/200\n",
            "60/60 [==============================] - 6s 108ms/step - loss: 8.1735e-04 - val_loss: 3.2412e-04\n",
            "Epoch 149/200\n",
            "60/60 [==============================] - 6s 108ms/step - loss: 9.6373e-04 - val_loss: 4.2309e-04\n",
            "Epoch 150/200\n",
            "60/60 [==============================] - 6s 107ms/step - loss: 9.7292e-04 - val_loss: 9.3873e-04\n",
            "Epoch 151/200\n",
            "60/60 [==============================] - 7s 108ms/step - loss: 9.3013e-04 - val_loss: 4.6045e-04\n",
            "Epoch 152/200\n",
            "60/60 [==============================] - 7s 108ms/step - loss: 8.8333e-04 - val_loss: 5.0398e-04\n",
            "Epoch 153/200\n",
            "60/60 [==============================] - 7s 109ms/step - loss: 9.4532e-04 - val_loss: 7.0926e-04\n",
            "Epoch 154/200\n",
            "60/60 [==============================] - 7s 109ms/step - loss: 9.4893e-04 - val_loss: 2.2035e-04\n",
            "Epoch 155/200\n",
            "60/60 [==============================] - 6s 107ms/step - loss: 9.2165e-04 - val_loss: 2.2113e-04\n",
            "Epoch 156/200\n",
            "60/60 [==============================] - 6s 108ms/step - loss: 8.9560e-04 - val_loss: 0.0014\n",
            "Epoch 157/200\n",
            "60/60 [==============================] - 7s 109ms/step - loss: 0.0010 - val_loss: 5.1095e-04\n",
            "Epoch 158/200\n",
            "60/60 [==============================] - 6s 108ms/step - loss: 0.0010 - val_loss: 3.0463e-04\n",
            "Epoch 159/200\n",
            "60/60 [==============================] - 6s 108ms/step - loss: 8.8631e-04 - val_loss: 3.7551e-04\n",
            "Epoch 160/200\n",
            "60/60 [==============================] - 7s 109ms/step - loss: 9.5860e-04 - val_loss: 2.1484e-04\n",
            "Epoch 161/200\n",
            "60/60 [==============================] - 7s 109ms/step - loss: 9.9319e-04 - val_loss: 5.3998e-04\n",
            "Epoch 162/200\n",
            "60/60 [==============================] - 7s 109ms/step - loss: 8.8616e-04 - val_loss: 8.9713e-04\n",
            "Epoch 163/200\n",
            "60/60 [==============================] - 7s 108ms/step - loss: 8.5895e-04 - val_loss: 2.9532e-04\n",
            "Epoch 164/200\n",
            "60/60 [==============================] - 6s 108ms/step - loss: 9.5040e-04 - val_loss: 7.6185e-04\n",
            "Epoch 165/200\n",
            "60/60 [==============================] - 6s 108ms/step - loss: 9.5905e-04 - val_loss: 2.2409e-04\n",
            "Epoch 166/200\n",
            "60/60 [==============================] - 6s 108ms/step - loss: 9.1648e-04 - val_loss: 0.0013\n",
            "Epoch 167/200\n",
            "60/60 [==============================] - 7s 109ms/step - loss: 9.1695e-04 - val_loss: 2.4925e-04\n",
            "Epoch 168/200\n",
            "60/60 [==============================] - 6s 108ms/step - loss: 0.0011 - val_loss: 0.0016\n",
            "Epoch 169/200\n",
            "60/60 [==============================] - 6s 107ms/step - loss: 8.9013e-04 - val_loss: 0.0037\n",
            "Epoch 170/200\n",
            "60/60 [==============================] - 7s 108ms/step - loss: 0.0011 - val_loss: 2.6055e-04\n",
            "Epoch 171/200\n",
            "60/60 [==============================] - 7s 109ms/step - loss: 9.8412e-04 - val_loss: 2.6590e-04\n",
            "Epoch 172/200\n",
            "60/60 [==============================] - 7s 109ms/step - loss: 9.6692e-04 - val_loss: 2.2094e-04\n",
            "Epoch 173/200\n",
            "60/60 [==============================] - 6s 108ms/step - loss: 9.5399e-04 - val_loss: 2.2136e-04\n",
            "Epoch 174/200\n",
            "60/60 [==============================] - 7s 109ms/step - loss: 8.4243e-04 - val_loss: 0.0012\n",
            "Epoch 175/200\n",
            "60/60 [==============================] - 7s 109ms/step - loss: 8.0466e-04 - val_loss: 5.3908e-04\n",
            "Epoch 176/200\n",
            "60/60 [==============================] - 7s 109ms/step - loss: 9.7552e-04 - val_loss: 0.0015\n",
            "Epoch 177/200\n",
            "60/60 [==============================] - 6s 107ms/step - loss: 9.9137e-04 - val_loss: 3.2772e-04\n",
            "Epoch 178/200\n",
            "60/60 [==============================] - 7s 110ms/step - loss: 8.5737e-04 - val_loss: 0.0014\n",
            "Epoch 179/200\n",
            "60/60 [==============================] - 7s 109ms/step - loss: 8.5672e-04 - val_loss: 0.0017\n",
            "Epoch 180/200\n",
            "60/60 [==============================] - 7s 110ms/step - loss: 7.9974e-04 - val_loss: 5.2074e-04\n",
            "Epoch 181/200\n",
            "60/60 [==============================] - 7s 111ms/step - loss: 8.8539e-04 - val_loss: 0.0011\n",
            "Epoch 182/200\n",
            "60/60 [==============================] - 6s 107ms/step - loss: 0.0012 - val_loss: 0.0010\n",
            "Epoch 183/200\n",
            "60/60 [==============================] - 7s 109ms/step - loss: 8.9147e-04 - val_loss: 5.9047e-04\n",
            "Epoch 184/200\n",
            "60/60 [==============================] - 7s 109ms/step - loss: 9.0416e-04 - val_loss: 0.0023\n",
            "Epoch 185/200\n",
            "60/60 [==============================] - 6s 108ms/step - loss: 8.6834e-04 - val_loss: 2.6880e-04\n",
            "Epoch 186/200\n",
            "60/60 [==============================] - 7s 109ms/step - loss: 8.1506e-04 - val_loss: 0.0017\n",
            "Epoch 187/200\n",
            "60/60 [==============================] - 7s 109ms/step - loss: 9.4955e-04 - val_loss: 0.0013\n",
            "Epoch 188/200\n",
            "60/60 [==============================] - 7s 110ms/step - loss: 9.2760e-04 - val_loss: 2.4059e-04\n",
            "Epoch 189/200\n",
            "60/60 [==============================] - 7s 111ms/step - loss: 7.7344e-04 - val_loss: 0.0012\n",
            "Epoch 190/200\n",
            "60/60 [==============================] - 7s 110ms/step - loss: 8.5304e-04 - val_loss: 2.4930e-04\n",
            "Epoch 191/200\n",
            "60/60 [==============================] - 7s 108ms/step - loss: 9.2462e-04 - val_loss: 3.0374e-04\n",
            "Epoch 192/200\n",
            "60/60 [==============================] - 7s 108ms/step - loss: 7.8969e-04 - val_loss: 8.1091e-04\n",
            "Epoch 193/200\n",
            "60/60 [==============================] - 6s 107ms/step - loss: 9.6534e-04 - val_loss: 0.0010\n",
            "Epoch 194/200\n",
            "60/60 [==============================] - 7s 109ms/step - loss: 8.9421e-04 - val_loss: 7.0450e-04\n",
            "Epoch 195/200\n",
            "60/60 [==============================] - 6s 108ms/step - loss: 7.7480e-04 - val_loss: 2.7866e-04\n",
            "Epoch 196/200\n",
            "60/60 [==============================] - 6s 108ms/step - loss: 8.6658e-04 - val_loss: 6.8510e-04\n",
            "Epoch 197/200\n",
            "60/60 [==============================] - 7s 109ms/step - loss: 9.8318e-04 - val_loss: 3.4055e-04\n",
            "Epoch 198/200\n",
            "60/60 [==============================] - 6s 108ms/step - loss: 8.0776e-04 - val_loss: 0.0018\n",
            "Epoch 199/200\n",
            "60/60 [==============================] - 7s 108ms/step - loss: 0.0010 - val_loss: 4.0021e-04\n",
            "Epoch 200/200\n",
            "60/60 [==============================] - 6s 108ms/step - loss: 9.1595e-04 - val_loss: 0.0011\n"
          ],
          "name": "stdout"
        },
        {
          "output_type": "execute_result",
          "data": {
            "text/plain": [
              "<keras.callbacks.History at 0x7f3ae6812e50>"
            ]
          },
          "metadata": {
            "tags": []
          },
          "execution_count": 31
        }
      ]
    },
    {
      "cell_type": "code",
      "metadata": {
        "id": "iU4-5L37EfDV"
      },
      "source": [
        "# Making prediction for the test data\n",
        "y_pred = model.predict(x_test)"
      ],
      "execution_count": null,
      "outputs": []
    },
    {
      "cell_type": "code",
      "metadata": {
        "id": "KNgAVWHfEo_V"
      },
      "source": [
        "# Inverse the Scaling \n",
        "y_pred = sc.inverse_transform(y_pred)\n",
        "y_test = sc.inverse_transform(y_test)"
      ],
      "execution_count": null,
      "outputs": []
    },
    {
      "cell_type": "code",
      "metadata": {
        "colab": {
          "base_uri": "https://localhost:8080/",
          "height": 295
        },
        "id": "RnQ5kx1XEqbR",
        "outputId": "0784051b-7eb0-4330-cc7b-4b75c8914909"
      },
      "source": [
        "# Visualizeing the data\n",
        "xAxis = np.linspace(0, 20, 20)\n",
        "plt.plot(xAxis, y_test, label='Real Google Stock Price')\n",
        "plt.plot(xAxis, y_pred, label='Predicted Google Stock Price')\n",
        "plt.title('Google Stock Price')\n",
        "plt.xlabel('Time')\n",
        "plt.ylabel('Price')\n",
        "plt.legend()\n",
        "plt.show()"
      ],
      "execution_count": null,
      "outputs": [
        {
          "output_type": "display_data",
          "data": {
            "image/png": "[encoded data removed]",
            "text/plain": [
              "<Figure size 432x288 with 1 Axes>"
            ]
          },
          "metadata": {
            "tags": [],
            "needs_background": "light"
          }
        }
      ]
    }
  ]
}